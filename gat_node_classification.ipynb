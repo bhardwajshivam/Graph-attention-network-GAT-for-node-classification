{
  "cells": [
    {
      "cell_type": "markdown",
      "metadata": {
        "id": "view-in-github",
        "colab_type": "text"
      },
      "source": [
        "<a href=\"https://colab.research.google.com/github/bhardwajshivam/Graph-attention-network-GAT-for-node-classification/blob/main/gat_node_classification.ipynb\" target=\"_parent\"><img src=\"https://colab.research.google.com/assets/colab-badge.svg\" alt=\"Open In Colab\"/></a>"
      ]
    },
    {
      "cell_type": "markdown",
      "metadata": {
        "id": "UdBgqFuDK4HH"
      },
      "source": [
        "# Graph attention network (GAT) for node classification\n"
      ]
    },
    {
      "cell_type": "markdown",
      "metadata": {
        "id": "59InImEfK4HK"
      },
      "source": [
        "## Introduction\n",
        "\n",
        "[Graph neural networks](https://en.wikipedia.org/wiki/Graph_neural_network)\n",
        "is the prefered neural network architecture for processing data structured as\n",
        "graphs (for example, social networks or molecule structures), yielding\n",
        "better results than fully-connected networks or convolutional networks.\n",
        "\n",
        "In this tutorial, we will implement a specific graph neural network known as a\n",
        "[Graph Attention Network](https://arxiv.org/abs/1710.10903) (GAT) to predict labels of\n",
        "scientific papers based on what type of papers cite them (using the\n",
        "[Cora](https://linqs.soe.ucsc.edu/data) dataset).\n",
        "\n",
        "### References\n",
        "\n",
        "For more information on GAT, see the original paper\n",
        "[Graph Attention Networks](https://arxiv.org/abs/1710.10903) as well as\n",
        "[DGL's Graph Attention Networks](https://docs.dgl.ai/en/0.4.x/tutorials/models/1_gnn/9_gat.html)\n",
        "documentation."
      ]
    },
    {
      "cell_type": "markdown",
      "metadata": {
        "id": "JMR7mC2WK4HL"
      },
      "source": [
        "### Import packages"
      ]
    },
    {
      "cell_type": "code",
      "execution_count": null,
      "metadata": {
        "id": "IZj09X2vK4HL"
      },
      "outputs": [],
      "source": [
        "import tensorflow as tf\n",
        "from tensorflow import keras\n",
        "from tensorflow.keras import layers\n",
        "import numpy as np\n",
        "import pandas as pd\n",
        "import os\n",
        "import warnings\n",
        "\n",
        "warnings.filterwarnings(\"ignore\")\n",
        "pd.set_option(\"display.max_columns\", 6)\n",
        "pd.set_option(\"display.max_rows\", 6)\n",
        "np.random.seed(2)"
      ]
    },
    {
      "cell_type": "markdown",
      "metadata": {
        "id": "-AW5sjaoK4HM"
      },
      "source": [
        "## Obtain the dataset\n",
        "\n",
        "The preparation of the [Cora dataset](https://linqs.soe.ucsc.edu/data) follows that of the\n",
        "[Node classification with Graph Neural Networks](https://keras.io/examples/graph/gnn_citations/)\n",
        "tutorial. Refer to this tutorial for more details on the dataset and exploratory data analysis.\n",
        "In brief, the Cora dataset consists of two files: `cora.cites` which contains *directed links* (citations) between\n",
        "papers; and `cora.content` which contains *features* of the corresponding papers and one\n",
        "of seven labels (the *subject* of the paper)."
      ]
    },
    {
      "cell_type": "code",
      "execution_count": null,
      "metadata": {
        "id": "ALLI9zTKK4HN",
        "outputId": "5e67fb1b-d804-417c-a6e8-ddcd7c66c5ee"
      },
      "outputs": [
        {
          "name": "stdout",
          "output_type": "stream",
          "text": [
            "      target  source\n",
            "0          0      21\n",
            "1          0     905\n",
            "2          0     906\n",
            "...      ...     ...\n",
            "5426    1874    2586\n",
            "5427    1876    1874\n",
            "5428    1897    2707\n",
            "\n",
            "[5429 rows x 2 columns]\n",
            "      paper_id  term_0  term_1  ...  term_1431  term_1432  subject\n",
            "0          462       0       0  ...          0          0        2\n",
            "1         1911       0       0  ...          0          0        5\n",
            "2         2002       0       0  ...          0          0        4\n",
            "...        ...     ...     ...  ...        ...        ...      ...\n",
            "2705      2372       0       0  ...          0          0        1\n",
            "2706       955       0       0  ...          0          0        0\n",
            "2707       376       0       0  ...          0          0        2\n",
            "\n",
            "[2708 rows x 1435 columns]\n"
          ]
        }
      ],
      "source": [
        "zip_file = keras.utils.get_file(\n",
        "    fname=\"cora.tgz\",\n",
        "    origin=\"https://linqs-data.soe.ucsc.edu/public/lbc/cora.tgz\",\n",
        "    extract=True,\n",
        ")\n",
        "\n",
        "data_dir = os.path.join(os.path.dirname(zip_file), \"cora\")\n",
        "\n",
        "citations = pd.read_csv(\n",
        "    os.path.join(data_dir, \"cora.cites\"),\n",
        "    sep=\"\\t\",\n",
        "    header=None,\n",
        "    names=[\"target\", \"source\"],\n",
        ")\n",
        "\n",
        "papers = pd.read_csv(\n",
        "    os.path.join(data_dir, \"cora.content\"),\n",
        "    sep=\"\\t\",\n",
        "    header=None,\n",
        "    names=[\"paper_id\"] + [f\"term_{idx}\" for idx in range(1433)] + [\"subject\"],\n",
        ")\n",
        "\n",
        "class_values = sorted(papers[\"subject\"].unique())\n",
        "class_idx = {name: id for id, name in enumerate(class_values)}\n",
        "paper_idx = {name: idx for idx, name in enumerate(sorted(papers[\"paper_id\"].unique()))}\n",
        "\n",
        "papers[\"paper_id\"] = papers[\"paper_id\"].apply(lambda name: paper_idx[name])\n",
        "citations[\"source\"] = citations[\"source\"].apply(lambda name: paper_idx[name])\n",
        "citations[\"target\"] = citations[\"target\"].apply(lambda name: paper_idx[name])\n",
        "papers[\"subject\"] = papers[\"subject\"].apply(lambda value: class_idx[value])\n",
        "\n",
        "print(citations)\n",
        "\n",
        "print(papers)"
      ]
    },
    {
      "cell_type": "markdown",
      "metadata": {
        "id": "0FgBYW6bK4HO"
      },
      "source": [
        "### Split the dataset"
      ]
    },
    {
      "cell_type": "code",
      "execution_count": null,
      "metadata": {
        "id": "4oMmk1Y3K4HO"
      },
      "outputs": [],
      "source": [
        "# Obtain random indices\n",
        "random_indices = np.random.permutation(range(papers.shape[0]))\n",
        "\n",
        "# 50/50 split\n",
        "train_data = papers.iloc[random_indices[: len(random_indices) // 2]]\n",
        "test_data = papers.iloc[random_indices[len(random_indices) // 2 :]]"
      ]
    },
    {
      "cell_type": "markdown",
      "metadata": {
        "id": "BmRtyKAfK4HP"
      },
      "source": [
        "### Prepare the graph data"
      ]
    },
    {
      "cell_type": "code",
      "execution_count": null,
      "metadata": {
        "id": "Phvnue3QK4HP",
        "outputId": "27cae35a-201a-44e4-91c2-93811adac56b"
      },
      "outputs": [
        {
          "name": "stdout",
          "output_type": "stream",
          "text": [
            "Edges shape:\t\t (5429, 2)\n",
            "Node features shape: (2708, 1433)\n"
          ]
        }
      ],
      "source": [
        "# Obtain paper indices which will be used to gather node states\n",
        "# from the graph later on when training the model\n",
        "train_indices = train_data[\"paper_id\"].to_numpy()\n",
        "test_indices = test_data[\"paper_id\"].to_numpy()\n",
        "\n",
        "# Obtain ground truth labels corresponding to each paper_id\n",
        "train_labels = train_data[\"subject\"].to_numpy()\n",
        "test_labels = test_data[\"subject\"].to_numpy()\n",
        "\n",
        "# Define graph, namely an edge tensor and a node feature tensor\n",
        "edges = tf.convert_to_tensor(citations[[\"target\", \"source\"]])\n",
        "node_states = tf.convert_to_tensor(papers.sort_values(\"paper_id\").iloc[:, 1:-1])\n",
        "\n",
        "# Print shapes of the graph\n",
        "print(\"Edges shape:\\t\\t\", edges.shape)\n",
        "print(\"Node features shape:\", node_states.shape)"
      ]
    },
    {
      "cell_type": "markdown",
      "metadata": {
        "id": "pZ4z86STK4HQ"
      },
      "source": [
        "## Build the model\n",
        "\n",
        "GAT takes as input a graph (namely an edge tensor and a node feature tensor) and\n",
        "outputs \\[updated\\] node states. The node states are, for each target node, neighborhood\n",
        "aggregated information of *N*-hops (where *N* is decided by the number of layers of the\n",
        "GAT). Importantly, in contrast to the\n",
        "[graph convolutional network](https://arxiv.org/abs/1609.02907) (GCN)\n",
        "the GAT makes use of attention machanisms\n",
        "to aggregate information from neighboring nodes (or *source nodes*). In other words, instead of simply\n",
        "averaging/summing node states from source nodes (*source papers*) to the target node (*target papers*),\n",
        "GAT first applies normalized attention scores to each source node state and then sums."
      ]
    },
    {
      "cell_type": "markdown",
      "metadata": {
        "id": "D7NK4BApK4HQ"
      },
      "source": [
        "### (Multi-head) graph attention layer\n",
        "\n",
        "The GAT model implements multi-head graph attention layers. The `MultiHeadGraphAttention`\n",
        "layer is simply a concatenation (or averaging) of multiple graph attention layers\n",
        "(`GraphAttention`), each with separate learnable weights `W`. The `GraphAttention` layer\n",
        "does the following:\n",
        "\n",
        "Consider inputs node states `h^{l}` which are linearly transformed by `W^{l}`, resulting in `z^{l}`.\n",
        "\n",
        "For each target node:\n",
        "\n",
        "1. Computes pair-wise attention scores `a^{l}^{T}(z^{l}_{i}||z^{l}_{j})` for all `j`,\n",
        "resulting in `e_{ij}` (for all `j`).\n",
        "`||` denotes a concatenation, `_{i}` corresponds to the target node, and `_{j}`\n",
        "corresponds to a given 1-hop neighbor/source node.\n",
        "2. Normalizes `e_{ij}` via softmax, so as the sum of incoming edges' attention scores\n",
        "to the target node (`sum_{k}{e_{norm}_{ik}}`) will add up to 1.\n",
        "3. Applies attention scores `e_{norm}_{ij}` to `z_{j}`\n",
        "and adds it to the new target node state `h^{l+1}_{i}`, for all `j`."
      ]
    },
    {
      "cell_type": "code",
      "execution_count": null,
      "metadata": {
        "id": "ZgLhXKIxK4HQ"
      },
      "outputs": [],
      "source": [
        "\n",
        "class GraphAttention(layers.Layer):\n",
        "    def __init__(\n",
        "        self,\n",
        "        units,\n",
        "        kernel_initializer=\"glorot_uniform\",\n",
        "        kernel_regularizer=None,\n",
        "        **kwargs,\n",
        "    ):\n",
        "        super().__init__(**kwargs)\n",
        "        self.units = units\n",
        "        self.kernel_initializer = keras.initializers.get(kernel_initializer)\n",
        "        self.kernel_regularizer = keras.regularizers.get(kernel_regularizer)\n",
        "\n",
        "    def build(self, input_shape):\n",
        "\n",
        "        self.kernel = self.add_weight(\n",
        "            shape=(input_shape[0][-1], self.units),\n",
        "            trainable=True,\n",
        "            initializer=self.kernel_initializer,\n",
        "            regularizer=self.kernel_regularizer,\n",
        "            name=\"kernel\",\n",
        "        )\n",
        "        self.kernel_attention = self.add_weight(\n",
        "            shape=(self.units * 2, 1),\n",
        "            trainable=True,\n",
        "            initializer=self.kernel_initializer,\n",
        "            regularizer=self.kernel_regularizer,\n",
        "            name=\"kernel_attention\",\n",
        "        )\n",
        "        self.built = True\n",
        "\n",
        "    def call(self, inputs):\n",
        "        node_states, edges = inputs\n",
        "\n",
        "        # Linearly transform node states\n",
        "        node_states_transformed = tf.matmul(node_states, self.kernel)\n",
        "\n",
        "        # (1) Compute pair-wise attention scores\n",
        "        node_states_expanded = tf.gather(node_states_transformed, edges)\n",
        "        node_states_expanded = tf.reshape(\n",
        "            node_states_expanded, (tf.shape(edges)[0], -1)\n",
        "        )\n",
        "        attention_scores = tf.nn.leaky_relu(\n",
        "            tf.matmul(node_states_expanded, self.kernel_attention)\n",
        "        )\n",
        "        attention_scores = tf.squeeze(attention_scores, -1)\n",
        "\n",
        "        # (2) Normalize attention scores\n",
        "        attention_scores = tf.math.exp(tf.clip_by_value(attention_scores, -2, 2))\n",
        "        attention_scores_sum = tf.math.unsorted_segment_sum(\n",
        "            data=attention_scores,\n",
        "            segment_ids=edges[:, 0],\n",
        "            num_segments=tf.reduce_max(edges[:, 0]) + 1,\n",
        "        )\n",
        "        attention_scores_sum = tf.repeat(\n",
        "            attention_scores_sum, tf.math.bincount(tf.cast(edges[:, 0], \"int32\"))\n",
        "        )\n",
        "        attention_scores_norm = attention_scores / attention_scores_sum\n",
        "\n",
        "        # (3) Gather node states of neighbors, apply attention scores and aggregate\n",
        "        node_states_neighbors = tf.gather(node_states_transformed, edges[:, 1])\n",
        "        out = tf.math.unsorted_segment_sum(\n",
        "            data=node_states_neighbors * attention_scores_norm[:, tf.newaxis],\n",
        "            segment_ids=edges[:, 0],\n",
        "            num_segments=tf.shape(node_states)[0],\n",
        "        )\n",
        "        return out\n",
        "\n",
        "\n",
        "class MultiHeadGraphAttention(layers.Layer):\n",
        "    def __init__(self, units, num_heads=8, merge_type=\"concat\", **kwargs):\n",
        "        super().__init__(**kwargs)\n",
        "        self.num_heads = num_heads\n",
        "        self.merge_type = merge_type\n",
        "        self.attention_layers = [GraphAttention(units) for _ in range(num_heads)]\n",
        "\n",
        "    def call(self, inputs):\n",
        "        atom_features, pair_indices = inputs\n",
        "\n",
        "        # Obtain outputs from each attention head\n",
        "        outputs = [\n",
        "            attention_layer([atom_features, pair_indices])\n",
        "            for attention_layer in self.attention_layers\n",
        "        ]\n",
        "        # Concatenate or average the node states from each head\n",
        "        if self.merge_type == \"concat\":\n",
        "            outputs = tf.concat(outputs, axis=-1)\n",
        "        else:\n",
        "            outputs = tf.reduce_mean(tf.stack(outputs, axis=-1), axis=-1)\n",
        "        # Activate and return node states\n",
        "        return tf.nn.relu(outputs)\n"
      ]
    },
    {
      "cell_type": "markdown",
      "metadata": {
        "id": "bG9qv64KK4HR"
      },
      "source": [
        "### Implement training logic with custom `train_step`, `test_step`, and `predict_step` methods\n",
        "\n",
        "Notice, the GAT model operates on the entire graph (namely, `node_states` and\n",
        "`edges`) in all phases (training, validation and testing). Hence, `node_states` and\n",
        "`edges` are passed to the constructor of the `keras.Model` and used as attributes.\n",
        "The difference between the phases are the indices (and labels), which gathers\n",
        "certain outputs (`tf.gather(outputs, indices)`)."
      ]
    },
    {
      "cell_type": "code",
      "execution_count": null,
      "metadata": {
        "id": "-gg876caK4HR"
      },
      "outputs": [],
      "source": [
        "\n",
        "class GraphAttentionNetwork(keras.Model):\n",
        "    def __init__(\n",
        "        self,\n",
        "        node_states,\n",
        "        edges,\n",
        "        hidden_units,\n",
        "        num_heads,\n",
        "        num_layers,\n",
        "        output_dim,\n",
        "        **kwargs,\n",
        "    ):\n",
        "        super().__init__(**kwargs)\n",
        "        self.node_states = node_states\n",
        "        self.edges = edges\n",
        "        self.preprocess = layers.Dense(hidden_units * num_heads, activation=\"relu\")\n",
        "        self.attention_layers = [\n",
        "            MultiHeadGraphAttention(hidden_units, num_heads) for _ in range(num_layers)\n",
        "        ]\n",
        "        self.output_layer = layers.Dense(output_dim)\n",
        "\n",
        "    def call(self, inputs):\n",
        "        node_states, edges = inputs\n",
        "        x = self.preprocess(node_states)\n",
        "        for attention_layer in self.attention_layers:\n",
        "            x = attention_layer([x, edges]) + x\n",
        "        outputs = self.output_layer(x)\n",
        "        return outputs\n",
        "\n",
        "    def train_step(self, data):\n",
        "        indices, labels = data\n",
        "\n",
        "        with tf.GradientTape() as tape:\n",
        "            # Forward pass\n",
        "            outputs = self([self.node_states, self.edges])\n",
        "            # Compute loss\n",
        "            loss = self.compiled_loss(labels, tf.gather(outputs, indices))\n",
        "        # Compute gradients\n",
        "        grads = tape.gradient(loss, self.trainable_weights)\n",
        "        # Apply gradients (update weights)\n",
        "        optimizer.apply_gradients(zip(grads, self.trainable_weights))\n",
        "        # Update metric(s)\n",
        "        self.compiled_metrics.update_state(labels, tf.gather(outputs, indices))\n",
        "\n",
        "        return {m.name: m.result() for m in self.metrics}\n",
        "\n",
        "    def predict_step(self, data):\n",
        "        indices = data\n",
        "        # Forward pass\n",
        "        outputs = self([self.node_states, self.edges])\n",
        "        # Compute probabilities\n",
        "        return tf.nn.softmax(tf.gather(outputs, indices))\n",
        "\n",
        "    def test_step(self, data):\n",
        "        indices, labels = data\n",
        "        # Forward pass\n",
        "        outputs = self([self.node_states, self.edges])\n",
        "        # Compute loss\n",
        "        loss = self.compiled_loss(labels, tf.gather(outputs, indices))\n",
        "        # Update metric(s)\n",
        "        self.compiled_metrics.update_state(labels, tf.gather(outputs, indices))\n",
        "\n",
        "        return {m.name: m.result() for m in self.metrics}\n"
      ]
    },
    {
      "cell_type": "markdown",
      "metadata": {
        "id": "2x9pVcRgK4HS"
      },
      "source": [
        "### Train and evaluate"
      ]
    },
    {
      "cell_type": "code",
      "execution_count": null,
      "metadata": {
        "id": "YiG0kCREK4HS",
        "outputId": "e36e7a57-231e-4836-a1c9-212bcac09b27"
      },
      "outputs": [
        {
          "name": "stdout",
          "output_type": "stream",
          "text": [
            "Epoch 1/100\n",
            "5/5 - 13s - loss: 1.9751 - acc: 0.2020 - val_loss: 1.7385 - val_acc: 0.3456 - 13s/epoch - 3s/step\n",
            "Epoch 2/100\n",
            "5/5 - 0s - loss: 1.3864 - acc: 0.5484 - val_loss: 1.2299 - val_acc: 0.5294 - 258ms/epoch - 52ms/step\n",
            "Epoch 3/100\n",
            "5/5 - 0s - loss: 0.8448 - acc: 0.7209 - val_loss: 0.8948 - val_acc: 0.7426 - 238ms/epoch - 48ms/step\n",
            "Epoch 4/100\n",
            "5/5 - 0s - loss: 0.4893 - acc: 0.8604 - val_loss: 0.7628 - val_acc: 0.8015 - 239ms/epoch - 48ms/step\n",
            "Epoch 5/100\n",
            "5/5 - 0s - loss: 0.3101 - acc: 0.9138 - val_loss: 0.8813 - val_acc: 0.7721 - 228ms/epoch - 46ms/step\n",
            "Epoch 6/100\n",
            "5/5 - 0s - loss: 0.1792 - acc: 0.9540 - val_loss: 0.8275 - val_acc: 0.8088 - 243ms/epoch - 49ms/step\n",
            "Epoch 7/100\n",
            "5/5 - 0s - loss: 0.1003 - acc: 0.9885 - val_loss: 0.7378 - val_acc: 0.8015 - 233ms/epoch - 47ms/step\n",
            "Epoch 8/100\n",
            "5/5 - 0s - loss: 0.0656 - acc: 0.9943 - val_loss: 0.7469 - val_acc: 0.8235 - 241ms/epoch - 48ms/step\n",
            "Epoch 9/100\n",
            "5/5 - 0s - loss: 0.0494 - acc: 0.9934 - val_loss: 0.8152 - val_acc: 0.8162 - 232ms/epoch - 46ms/step\n",
            "Epoch 10/100\n",
            "5/5 - 0s - loss: 0.0326 - acc: 0.9967 - val_loss: 0.9164 - val_acc: 0.7941 - 226ms/epoch - 45ms/step\n",
            "Epoch 11/100\n",
            "5/5 - 0s - loss: 0.0287 - acc: 0.9967 - val_loss: 0.8054 - val_acc: 0.8162 - 231ms/epoch - 46ms/step\n",
            "Epoch 12/100\n",
            "5/5 - 0s - loss: 0.0198 - acc: 0.9992 - val_loss: 0.8322 - val_acc: 0.7941 - 226ms/epoch - 45ms/step\n",
            "Epoch 13/100\n",
            "5/5 - 0s - loss: 0.0167 - acc: 0.9992 - val_loss: 0.8255 - val_acc: 0.8235 - 254ms/epoch - 51ms/step\n",
            "----------------------------------------------------------------------------\n",
            "Test Accuracy 78.4%\n"
          ]
        }
      ],
      "source": [
        "# Define hyper-parameters\n",
        "HIDDEN_UNITS = 100\n",
        "NUM_HEADS = 8\n",
        "NUM_LAYERS = 3\n",
        "OUTPUT_DIM = len(class_values)\n",
        "\n",
        "NUM_EPOCHS = 100\n",
        "BATCH_SIZE = 256\n",
        "VALIDATION_SPLIT = 0.1\n",
        "LEARNING_RATE = 3e-1\n",
        "MOMENTUM = 0.9\n",
        "\n",
        "loss_fn = keras.losses.SparseCategoricalCrossentropy(from_logits=True)\n",
        "optimizer = keras.optimizers.SGD(LEARNING_RATE, momentum=MOMENTUM)\n",
        "accuracy_fn = keras.metrics.SparseCategoricalAccuracy(name=\"acc\")\n",
        "early_stopping = keras.callbacks.EarlyStopping(\n",
        "    monitor=\"val_acc\", min_delta=1e-5, patience=5, restore_best_weights=True\n",
        ")\n",
        "\n",
        "# Build model\n",
        "gat_model = GraphAttentionNetwork(\n",
        "    node_states, edges, HIDDEN_UNITS, NUM_HEADS, NUM_LAYERS, OUTPUT_DIM\n",
        ")\n",
        "\n",
        "# Compile model\n",
        "gat_model.compile(loss=loss_fn, optimizer=optimizer, metrics=[accuracy_fn])\n",
        "\n",
        "gat_model.fit(\n",
        "    x=train_indices,\n",
        "    y=train_labels,\n",
        "    validation_split=VALIDATION_SPLIT,\n",
        "    batch_size=BATCH_SIZE,\n",
        "    epochs=NUM_EPOCHS,\n",
        "    callbacks=[early_stopping],\n",
        "    verbose=2,\n",
        ")\n",
        "\n",
        "_, test_accuracy = gat_model.evaluate(x=test_indices, y=test_labels, verbose=0)\n",
        "\n",
        "print(\"--\" * 38 + f\"\\nTest Accuracy {test_accuracy*100:.1f}%\")"
      ]
    },
    {
      "cell_type": "markdown",
      "metadata": {
        "id": "YSyPhRk3K4HT"
      },
      "source": [
        "### Predict (probabilities)"
      ]
    },
    {
      "cell_type": "code",
      "execution_count": null,
      "metadata": {
        "id": "mptps8lLK4HT",
        "outputId": "5f4b0b21-f6b8-486e-9e1d-dfded7658683"
      },
      "outputs": [
        {
          "name": "stdout",
          "output_type": "stream",
          "text": [
            "43/43 [==============================] - 3s 16ms/step\n",
            "Example 1: Probabilistic_Methods\n",
            "\tProbability of Case_Based               =   0.679%\n",
            "\tProbability of Genetic_Algorithms       =   0.071%\n",
            "\tProbability of Neural_Networks          =  10.623%\n",
            "\tProbability of Probabilistic_Methods    =  87.543%\n",
            "\tProbability of Reinforcement_Learning   =   0.125%\n",
            "\tProbability of Rule_Learning            =   0.016%\n",
            "\tProbability of Theory                   =   0.943%\n",
            "------------------------------------------------------------\n",
            "Example 2: Genetic_Algorithms\n",
            "\tProbability of Case_Based               =   0.220%\n",
            "\tProbability of Genetic_Algorithms       =  99.744%\n",
            "\tProbability of Neural_Networks          =   0.003%\n",
            "\tProbability of Probabilistic_Methods    =   0.000%\n",
            "\tProbability of Reinforcement_Learning   =   0.021%\n",
            "\tProbability of Rule_Learning            =   0.002%\n",
            "\tProbability of Theory                   =   0.010%\n",
            "------------------------------------------------------------\n",
            "Example 3: Theory\n",
            "\tProbability of Case_Based               =   6.428%\n",
            "\tProbability of Genetic_Algorithms       =   0.648%\n",
            "\tProbability of Neural_Networks          =   0.048%\n",
            "\tProbability of Probabilistic_Methods    =  22.462%\n",
            "\tProbability of Reinforcement_Learning   =   0.491%\n",
            "\tProbability of Rule_Learning            =   6.575%\n",
            "\tProbability of Theory                   =  63.348%\n",
            "------------------------------------------------------------\n",
            "Example 4: Neural_Networks\n",
            "\tProbability of Case_Based               =   0.001%\n",
            "\tProbability of Genetic_Algorithms       =   0.000%\n",
            "\tProbability of Neural_Networks          =  99.387%\n",
            "\tProbability of Probabilistic_Methods    =   0.560%\n",
            "\tProbability of Reinforcement_Learning   =   0.000%\n",
            "\tProbability of Rule_Learning            =   0.001%\n",
            "\tProbability of Theory                   =   0.050%\n",
            "------------------------------------------------------------\n",
            "Example 5: Theory\n",
            "\tProbability of Case_Based               =  11.352%\n",
            "\tProbability of Genetic_Algorithms       =   3.353%\n",
            "\tProbability of Neural_Networks          =   3.344%\n",
            "\tProbability of Probabilistic_Methods    =  29.714%\n",
            "\tProbability of Reinforcement_Learning   =   0.420%\n",
            "\tProbability of Rule_Learning            =  33.826%\n",
            "\tProbability of Theory                   =  17.992%\n",
            "------------------------------------------------------------\n",
            "Example 6: Genetic_Algorithms\n",
            "\tProbability of Case_Based               =   0.000%\n",
            "\tProbability of Genetic_Algorithms       = 100.000%\n",
            "\tProbability of Neural_Networks          =   0.000%\n",
            "\tProbability of Probabilistic_Methods    =   0.000%\n",
            "\tProbability of Reinforcement_Learning   =   0.000%\n",
            "\tProbability of Rule_Learning            =   0.000%\n",
            "\tProbability of Theory                   =   0.000%\n",
            "------------------------------------------------------------\n",
            "Example 7: Neural_Networks\n",
            "\tProbability of Case_Based               =   0.193%\n",
            "\tProbability of Genetic_Algorithms       =   0.014%\n",
            "\tProbability of Neural_Networks          =  92.195%\n",
            "\tProbability of Probabilistic_Methods    =   7.048%\n",
            "\tProbability of Reinforcement_Learning   =   0.003%\n",
            "\tProbability of Rule_Learning            =   0.036%\n",
            "\tProbability of Theory                   =   0.512%\n",
            "------------------------------------------------------------\n",
            "Example 8: Genetic_Algorithms\n",
            "\tProbability of Case_Based               =   0.000%\n",
            "\tProbability of Genetic_Algorithms       = 100.000%\n",
            "\tProbability of Neural_Networks          =   0.000%\n",
            "\tProbability of Probabilistic_Methods    =   0.000%\n",
            "\tProbability of Reinforcement_Learning   =   0.000%\n",
            "\tProbability of Rule_Learning            =   0.000%\n",
            "\tProbability of Theory                   =   0.000%\n",
            "------------------------------------------------------------\n",
            "Example 9: Theory\n",
            "\tProbability of Case_Based               =   3.998%\n",
            "\tProbability of Genetic_Algorithms       =   3.354%\n",
            "\tProbability of Neural_Networks          =  35.821%\n",
            "\tProbability of Probabilistic_Methods    =  44.824%\n",
            "\tProbability of Reinforcement_Learning   =   1.066%\n",
            "\tProbability of Rule_Learning            =   2.140%\n",
            "\tProbability of Theory                   =   8.797%\n",
            "------------------------------------------------------------\n",
            "Example 10: Case_Based\n",
            "\tProbability of Case_Based               =  99.913%\n",
            "\tProbability of Genetic_Algorithms       =   0.002%\n",
            "\tProbability of Neural_Networks          =   0.003%\n",
            "\tProbability of Probabilistic_Methods    =   0.052%\n",
            "\tProbability of Reinforcement_Learning   =   0.001%\n",
            "\tProbability of Rule_Learning            =   0.025%\n",
            "\tProbability of Theory                   =   0.003%\n",
            "------------------------------------------------------------\n"
          ]
        }
      ],
      "source": [
        "test_probs = gat_model.predict(x=test_indices)\n",
        "\n",
        "mapping = {v: k for (k, v) in class_idx.items()}\n",
        "\n",
        "for i, (probs, label) in enumerate(zip(test_probs[:10], test_labels[:10])):\n",
        "    print(f\"Example {i+1}: {mapping[label]}\")\n",
        "    for j, c in zip(probs, class_idx.keys()):\n",
        "        print(f\"\\tProbability of {c: <24} = {j*100:7.3f}%\")\n",
        "    print(\"---\" * 20)"
      ]
    },
    {
      "cell_type": "markdown",
      "metadata": {
        "id": "yIL1m11pK4HT"
      },
      "source": [
        "## Conclusions\n",
        "\n",
        "The results look OK! The GAT model seems to correctly predict the subjects of the papers,\n",
        "based on what they cite, about 80% of the time. Further improvements could be\n",
        "made by fine-tuning the hyper-parameters of the GAT. For instance, try changing the number of layers,\n",
        "the number of hidden units, or the optimizer/learning rate; add regularization (e.g., dropout);\n",
        "or modify the preprocessing step. We could also try to implement *self-loops*\n",
        "(i.e., paper X cites paper X) and/or make the graph *undirected*."
      ]
    }
  ],
  "metadata": {
    "colab": {
      "provenance": [],
      "include_colab_link": true
    },
    "kernelspec": {
      "display_name": "Python 3 (ipykernel)",
      "language": "python",
      "name": "python3"
    },
    "language_info": {
      "codemirror_mode": {
        "name": "ipython",
        "version": 3
      },
      "file_extension": ".py",
      "mimetype": "text/x-python",
      "name": "python",
      "nbconvert_exporter": "python",
      "pygments_lexer": "ipython3",
      "version": "3.10.0"
    }
  },
  "nbformat": 4,
  "nbformat_minor": 0
}